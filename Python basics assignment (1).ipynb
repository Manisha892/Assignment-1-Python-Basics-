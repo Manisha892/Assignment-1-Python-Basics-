{
 "cells": [
  {
   "cell_type": "markdown",
   "id": "b7094a65-b463-4f3b-a5c9-1e1c836e7e96",
   "metadata": {},
   "source": [
    "#Question(1)_Explain the key features of python that make it a popular choice for programming."
   ]
  },
  {
   "cell_type": "markdown",
   "id": "b2004dea-e8e2-4204-b17e-202454309d4e",
   "metadata": {},
   "source": [
    "#Answer_Python is a programming language that is easy to understand,learn and write,making it a popular choice among developers and programmers.\n",
    "        widely used in the data industry.\n",
    "        A lot of libraries here<<All optimise and well written code are already kept like,pandas>>\n",
    "        There is a lot of versatility like,Web development,Machine learning ets.\n",
    "        Python has a large and active community of developers and third-party packages for various domains."
   ]
  },
  {
   "cell_type": "markdown",
   "id": "bcdca912-2c3e-4f8f-b04a-bfcb2be8069c",
   "metadata": {},
   "source": [
    "#Question(2)_Describe the role of predefined keywords in Python and provide examples of how they are used in a program."
   ]
  },
  {
   "cell_type": "markdown",
   "id": "d83c1e4e-35bf-4ca1-8c18-b1cb47779edd",
   "metadata": {},
   "source": [
    "#Answer_predefined Keywords are reserved words in Python that have special meanings,have special purpose and cannot be used as identifiers (variable names, function names, etc.).\r\n",
    "Keywords are case--sensitive and cannot be redefined or overridden within a Pytho nprogram.."
   ]
  },
  {
   "cell_type": "markdown",
   "id": "843dbc41-ab63-48ee-923d-549847caeb23",
   "metadata": {},
   "source": [
    "#Examples of keywords include if, else, while, for, def, class, import, try, except, return, True, False, None,etc."
   ]
  },
  {
   "cell_type": "code",
   "execution_count": 23,
   "id": "4d086021-3471-43bc-a80f-efa809f1d5ce",
   "metadata": {},
   "outputs": [
    {
     "name": "stdout",
     "output_type": "stream",
     "text": [
      "please have a driving license and drive\n"
     ]
    }
   ],
   "source": [
    "age = 25\n",
    "if age >= 18:\n",
    "    print(\"please have a driving license and drive\")\n",
    "else:\n",
    "    print(\"dont drive\")\n",
    "    "
   ]
  },
  {
   "cell_type": "code",
   "execution_count": 25,
   "id": "5dacc3c2-6071-4388-bc62-9ee30e98229d",
   "metadata": {},
   "outputs": [
    {
     "name": "stdout",
     "output_type": "stream",
     "text": [
      "dont drive\n"
     ]
    }
   ],
   "source": [
    "age = 15\n",
    "if age >= 18:\n",
    "    print(\"please have a driving license and drive\")\n",
    "else:\n",
    "    print(\"dont drive\")\n"
   ]
  },
  {
   "cell_type": "markdown",
   "id": "50ae14bc-b97b-4c3c-a0ef-5f25a82f2175",
   "metadata": {},
   "source": [
    "#Question(3)_Compare and contrast mutable and immutable objects in Python with examples."
   ]
  },
  {
   "cell_type": "markdown",
   "id": "3caafd9c-5ca7-42fc-8702-b62742bc2678",
   "metadata": {},
   "source": [
    "#Answer_In Python, objects can be either changeable (modifiable) or unchangeable (unmodifiable). \r\n",
    "Mutable objects, such as lists and dictionaries, can be modified after creation, while immutable objects, such as tuples and strings, cannot. \r\n",
    "Mutability affects how objects are stored and manipulated in memory, impacting performance, memory usage, and concurrency in Python programs. "
   ]
  },
  {
   "cell_type": "markdown",
   "id": "cd4b1230-cf3c-4889-96ea-023912000781",
   "metadata": {},
   "source": [
    "#Example_(list vs strings)"
   ]
  },
  {
   "cell_type": "code",
   "execution_count": 44,
   "id": "9c8229e0-4891-45a6-85f3-3f32e4b2c256",
   "metadata": {},
   "outputs": [],
   "source": [
    "list_count = [1,2,3,4,5,6,\"manisha\"]"
   ]
  },
  {
   "cell_type": "code",
   "execution_count": 46,
   "id": "fb591c0a-1e48-4cd9-a073-91120637ac69",
   "metadata": {},
   "outputs": [
    {
     "data": {
      "text/plain": [
       "[1, 2, 3, 4, 5, 6, 'manisha']"
      ]
     },
     "execution_count": 46,
     "metadata": {},
     "output_type": "execute_result"
    }
   ],
   "source": [
    "list_count"
   ]
  },
  {
   "cell_type": "code",
   "execution_count": 58,
   "id": "35fc69b8-df2e-4c0b-900e-c1df6ead8d06",
   "metadata": {},
   "outputs": [
    {
     "data": {
      "text/plain": [
       "list"
      ]
     },
     "execution_count": 58,
     "metadata": {},
     "output_type": "execute_result"
    }
   ],
   "source": [
    "type(list_count)"
   ]
  },
  {
   "cell_type": "code",
   "execution_count": 66,
   "id": "dc107351-bc1f-4a75-9eb7-9d5c1f5cdfc6",
   "metadata": {},
   "outputs": [
    {
     "data": {
      "text/plain": [
       "6"
      ]
     },
     "execution_count": 66,
     "metadata": {},
     "output_type": "execute_result"
    }
   ],
   "source": [
    "list_count[5]"
   ]
  },
  {
   "cell_type": "code",
   "execution_count": 72,
   "id": "f8516ea9-3b25-49d6-9207-712015311b83",
   "metadata": {},
   "outputs": [
    {
     "data": {
      "text/plain": [
       "[1, 2, 3, 4, 5, 8, 'manisha']"
      ]
     },
     "execution_count": 72,
     "metadata": {},
     "output_type": "execute_result"
    }
   ],
   "source": [
    "#mutability\n",
    "list_count[5]=8\n",
    "list_count"
   ]
  },
  {
   "cell_type": "code",
   "execution_count": 74,
   "id": "ac68f732-89bc-4335-8c52-1ef786dc2616",
   "metadata": {},
   "outputs": [
    {
     "data": {
      "text/plain": [
       "'manisha'"
      ]
     },
     "execution_count": 74,
     "metadata": {},
     "output_type": "execute_result"
    }
   ],
   "source": [
    "list_count[6]"
   ]
  },
  {
   "cell_type": "code",
   "execution_count": 80,
   "id": "f6da80fb-3e91-49e4-bf0d-13a953b8dd10",
   "metadata": {},
   "outputs": [
    {
     "data": {
      "text/plain": [
       "[1, 2, 3, 4, 5, 8, 'pooja']"
      ]
     },
     "execution_count": 80,
     "metadata": {},
     "output_type": "execute_result"
    }
   ],
   "source": [
    "list_count[6]=\"pooja\"\n",
    "list_count"
   ]
  },
  {
   "cell_type": "code",
   "execution_count": 100,
   "id": "f44bba0c-8bd6-40f9-b0d2-876185a324f5",
   "metadata": {},
   "outputs": [],
   "source": [
    "#objects whose value can be changed after they are created are called as mutable objects or container,list is a type of mutable object/support,item assignment."
   ]
  },
  {
   "cell_type": "code",
   "execution_count": 88,
   "id": "5b76e920-1c07-47f1-ac7f-e2bda3c8e5b7",
   "metadata": {},
   "outputs": [],
   "source": [
    "a = \"manisha\""
   ]
  },
  {
   "cell_type": "code",
   "execution_count": 90,
   "id": "4faeb691-e32c-4a9a-8e35-ff6602a4a61f",
   "metadata": {},
   "outputs": [
    {
     "data": {
      "text/plain": [
       "str"
      ]
     },
     "execution_count": 90,
     "metadata": {},
     "output_type": "execute_result"
    }
   ],
   "source": [
    "type(a)"
   ]
  },
  {
   "cell_type": "code",
   "execution_count": 94,
   "id": "5a49a674-91a9-42b4-8065-a0c440956a44",
   "metadata": {},
   "outputs": [
    {
     "ename": "TypeError",
     "evalue": "'str' object does not support item assignment",
     "output_type": "error",
     "traceback": [
      "\u001b[1;31m---------------------------------------------------------------------------\u001b[0m",
      "\u001b[1;31mTypeError\u001b[0m                                 Traceback (most recent call last)",
      "Cell \u001b[1;32mIn[94], line 1\u001b[0m\n\u001b[1;32m----> 1\u001b[0m a[\u001b[38;5;241m1\u001b[39m] \u001b[38;5;241m=\u001b[39m \u001b[38;5;124m\"\u001b[39m\u001b[38;5;124mp\u001b[39m\u001b[38;5;124m\"\u001b[39m\n",
      "\u001b[1;31mTypeError\u001b[0m: 'str' object does not support item assignment"
     ]
    }
   ],
   "source": [
    "a[1] = \"p\""
   ]
  },
  {
   "cell_type": "code",
   "execution_count": 102,
   "id": "4df3424c-8c38-46d7-a2eb-e0cad1c066ef",
   "metadata": {},
   "outputs": [],
   "source": [
    "#string is a type of immutable object doesn't support item assignment."
   ]
  },
  {
   "cell_type": "markdown",
   "id": "529327eb-14c3-43a6-80a4-30395e185a3f",
   "metadata": {},
   "source": [
    "#Question(4)_Discuss the different types of operators in Python and provide examples of how they are used."
   ]
  },
  {
   "cell_type": "markdown",
   "id": "bd6efb5d-b0ad-4326-b65e-6648de290d7e",
   "metadata": {},
   "source": [
    "#Answer_Operators are special symbols or keywords that are used to carry out specific actions on numbers or variables in Python expressions. \n",
    "Python supports various types of operators  including arithmetic operators (+, -, *, /), comparison operators (==, !=, <, >), logical operators (and, or, not) Bitwise operators (0,1),, assignment operators (=, +=, -=, *=, /=) Membership operators, Identity operators.\r\n",
    "Operators have precedence and associativity rules that determine the order of evaluation in expressions."
   ]
  },
  {
   "cell_type": "markdown",
   "id": "0859c52c-3068-406a-a9da-1e6f32b6715c",
   "metadata": {},
   "source": [
    "#Python operators special keywards/symbols that are use to perform some operations on values or variables>>to manage and computation data."
   ]
  },
  {
   "cell_type": "code",
   "execution_count": 2,
   "id": "af432114-1af8-47c6-bb7a-f0a05f0f23cf",
   "metadata": {},
   "outputs": [],
   "source": [
    "#Arithmatic operator\n",
    "#Addition operator(+)>> add two numbers"
   ]
  },
  {
   "cell_type": "code",
   "execution_count": 32,
   "id": "2c876615-42d1-414a-b62f-38b15ae3c80a",
   "metadata": {},
   "outputs": [],
   "source": [
    "a=10"
   ]
  },
  {
   "cell_type": "code",
   "execution_count": 34,
   "id": "f04bd1fa-533c-43f4-98a8-c445e5f96e98",
   "metadata": {},
   "outputs": [],
   "source": [
    "b=20"
   ]
  },
  {
   "cell_type": "code",
   "execution_count": 36,
   "id": "9bcd7ab4-2290-4ffc-9f6e-e0b6100960c0",
   "metadata": {},
   "outputs": [
    {
     "data": {
      "text/plain": [
       "30"
      ]
     },
     "execution_count": 36,
     "metadata": {},
     "output_type": "execute_result"
    }
   ],
   "source": [
    "add = a+b\n",
    "add"
   ]
  },
  {
   "cell_type": "code",
   "execution_count": 10,
   "id": "16181bf4-394d-42ca-9ccc-ec4ad0d11ee5",
   "metadata": {},
   "outputs": [],
   "source": [
    "#Subtraction operator(-)>>subtract two numbers"
   ]
  },
  {
   "cell_type": "code",
   "execution_count": 12,
   "id": "54cd61ab-d943-48f3-b2f7-82b725293f0c",
   "metadata": {},
   "outputs": [],
   "source": [
    "a=8"
   ]
  },
  {
   "cell_type": "code",
   "execution_count": 14,
   "id": "d369032f-fc24-433f-a784-e14b1f5f4a6c",
   "metadata": {},
   "outputs": [],
   "source": [
    "b=3"
   ]
  },
  {
   "cell_type": "code",
   "execution_count": 16,
   "id": "746a4940-82f4-42f9-b971-ecbb3de3bd3c",
   "metadata": {},
   "outputs": [
    {
     "data": {
      "text/plain": [
       "5"
      ]
     },
     "execution_count": 16,
     "metadata": {},
     "output_type": "execute_result"
    }
   ],
   "source": [
    "a-b"
   ]
  },
  {
   "cell_type": "code",
   "execution_count": 38,
   "id": "965eb3e9-bc85-4cfb-aa28-8dfddb064d69",
   "metadata": {},
   "outputs": [],
   "source": [
    "#Multiplication operator(*)>>multiply two numbers"
   ]
  },
  {
   "cell_type": "code",
   "execution_count": 5,
   "id": "b19ce62c-eb5a-47b0-86ce-109712e3a779",
   "metadata": {},
   "outputs": [
    {
     "data": {
      "text/plain": [
       "120"
      ]
     },
     "execution_count": 5,
     "metadata": {},
     "output_type": "execute_result"
    }
   ],
   "source": [
    "15 * 8"
   ]
  },
  {
   "cell_type": "code",
   "execution_count": 7,
   "id": "6756d0ad-5376-457c-a141-fd82efe5857e",
   "metadata": {},
   "outputs": [],
   "source": [
    "#Division operator(/)>>divide some numbers"
   ]
  },
  {
   "cell_type": "code",
   "execution_count": 9,
   "id": "bac7cf61-ea02-4bf3-9fd7-74e25fbade96",
   "metadata": {},
   "outputs": [
    {
     "data": {
      "text/plain": [
       "2.0"
      ]
     },
     "execution_count": 9,
     "metadata": {},
     "output_type": "execute_result"
    }
   ],
   "source": [
    "10 / 5"
   ]
  },
  {
   "cell_type": "code",
   "execution_count": 11,
   "id": "e792de74-ddc3-4b76-a30e-e09af3b35654",
   "metadata": {},
   "outputs": [],
   "source": [
    "#Modulus operator(%)>>get the remender"
   ]
  },
  {
   "cell_type": "code",
   "execution_count": 15,
   "id": "62d7fd24-eb00-455b-8a51-260a4b9faf3c",
   "metadata": {},
   "outputs": [
    {
     "data": {
      "text/plain": [
       "3"
      ]
     },
     "execution_count": 15,
     "metadata": {},
     "output_type": "execute_result"
    }
   ],
   "source": [
    "24 % 7"
   ]
  },
  {
   "cell_type": "code",
   "execution_count": 17,
   "id": "eea10c7d-68eb-4f67-8f1c-864e6b2d3d19",
   "metadata": {},
   "outputs": [],
   "source": [
    "#Floor operator >> Bringing the value on lower side."
   ]
  },
  {
   "cell_type": "code",
   "execution_count": 33,
   "id": "8f40c341-3b8c-4ceb-a4a1-550184fd805d",
   "metadata": {},
   "outputs": [
    {
     "data": {
      "text/plain": [
       "2.3333333333333335"
      ]
     },
     "execution_count": 33,
     "metadata": {},
     "output_type": "execute_result"
    }
   ],
   "source": [
    "7 / 3"
   ]
  },
  {
   "cell_type": "code",
   "execution_count": 35,
   "id": "d271c81b-740a-44ad-8cef-0d0588aca786",
   "metadata": {},
   "outputs": [
    {
     "data": {
      "text/plain": [
       "2"
      ]
     },
     "execution_count": 35,
     "metadata": {},
     "output_type": "execute_result"
    }
   ],
   "source": [
    "7 // 3  #floor operator"
   ]
  },
  {
   "cell_type": "code",
   "execution_count": 37,
   "id": "09c3a220-3b3e-41ec-9a96-420e7326ccc0",
   "metadata": {},
   "outputs": [],
   "source": [
    "#Comparition operator >> compare two values and Return in boolean value (True ,False)"
   ]
  },
  {
   "cell_type": "code",
   "execution_count": 39,
   "id": "693c61dc-456e-4d5b-b272-4454920fc734",
   "metadata": {},
   "outputs": [
    {
     "data": {
      "text/plain": [
       "True"
      ]
     },
     "execution_count": 39,
     "metadata": {},
     "output_type": "execute_result"
    }
   ],
   "source": [
    "7==7"
   ]
  },
  {
   "cell_type": "code",
   "execution_count": 41,
   "id": "0b13daaf-271f-4cd1-9b7d-d683908d25f9",
   "metadata": {},
   "outputs": [
    {
     "data": {
      "text/plain": [
       "False"
      ]
     },
     "execution_count": 41,
     "metadata": {},
     "output_type": "execute_result"
    }
   ],
   "source": [
    "7!=7"
   ]
  },
  {
   "cell_type": "code",
   "execution_count": 43,
   "id": "41a5f29a-e82b-43d4-993e-e358ef06c75e",
   "metadata": {},
   "outputs": [
    {
     "data": {
      "text/plain": [
       "True"
      ]
     },
     "execution_count": 43,
     "metadata": {},
     "output_type": "execute_result"
    }
   ],
   "source": [
    "3!=5"
   ]
  },
  {
   "cell_type": "code",
   "execution_count": 59,
   "id": "38fb3064-b58c-43c1-8079-0b37f690a9d0",
   "metadata": {},
   "outputs": [],
   "source": [
    "#Logical operator >> Two types of logical operator (AND,OR)"
   ]
  },
  {
   "cell_type": "code",
   "execution_count": 63,
   "id": "51b8985e-2850-4833-ad67-eb31fea121f1",
   "metadata": {},
   "outputs": [
    {
     "data": {
      "text/plain": [
       "True"
      ]
     },
     "execution_count": 63,
     "metadata": {},
     "output_type": "execute_result"
    }
   ],
   "source": [
    "#AND Operator\n",
    "True and True"
   ]
  },
  {
   "cell_type": "code",
   "execution_count": 65,
   "id": "50dbbcd2-9ba1-4c30-9d07-77c739f9aa58",
   "metadata": {},
   "outputs": [
    {
     "data": {
      "text/plain": [
       "False"
      ]
     },
     "execution_count": 65,
     "metadata": {},
     "output_type": "execute_result"
    }
   ],
   "source": [
    "True and False"
   ]
  },
  {
   "cell_type": "code",
   "execution_count": 67,
   "id": "4d1160ac-51db-4f84-ab24-5e320ce0bb40",
   "metadata": {},
   "outputs": [
    {
     "data": {
      "text/plain": [
       "False"
      ]
     },
     "execution_count": 67,
     "metadata": {},
     "output_type": "execute_result"
    }
   ],
   "source": [
    "False and True"
   ]
  },
  {
   "cell_type": "code",
   "execution_count": 69,
   "id": "eb1b14a7-1c09-4e62-84dd-7f5282190032",
   "metadata": {},
   "outputs": [
    {
     "data": {
      "text/plain": [
       "False"
      ]
     },
     "execution_count": 69,
     "metadata": {},
     "output_type": "execute_result"
    }
   ],
   "source": [
    "False and false"
   ]
  },
  {
   "cell_type": "code",
   "execution_count": 73,
   "id": "3b08c6be-585f-4437-b218-ed2cb16431e4",
   "metadata": {},
   "outputs": [
    {
     "data": {
      "text/plain": [
       "True"
      ]
     },
     "execution_count": 73,
     "metadata": {},
     "output_type": "execute_result"
    }
   ],
   "source": [
    "#OR Operator\n",
    "True or true"
   ]
  },
  {
   "cell_type": "code",
   "execution_count": 75,
   "id": "bf14e2c4-8370-49cd-82bf-ee56b27d6996",
   "metadata": {},
   "outputs": [
    {
     "data": {
      "text/plain": [
       "True"
      ]
     },
     "execution_count": 75,
     "metadata": {},
     "output_type": "execute_result"
    }
   ],
   "source": [
    "True or False"
   ]
  },
  {
   "cell_type": "code",
   "execution_count": 77,
   "id": "c3c88dc0-147c-41c2-94cc-25cc8a199aab",
   "metadata": {},
   "outputs": [
    {
     "data": {
      "text/plain": [
       "True"
      ]
     },
     "execution_count": 77,
     "metadata": {},
     "output_type": "execute_result"
    }
   ],
   "source": [
    "False or True"
   ]
  },
  {
   "cell_type": "code",
   "execution_count": 79,
   "id": "3a3da718-0dd1-4fae-b476-44f11a51fb88",
   "metadata": {},
   "outputs": [
    {
     "data": {
      "text/plain": [
       "False"
      ]
     },
     "execution_count": 79,
     "metadata": {},
     "output_type": "execute_result"
    }
   ],
   "source": [
    "False or False"
   ]
  },
  {
   "cell_type": "code",
   "execution_count": 85,
   "id": "fbce7426-2315-46bd-8b25-2681de2b1724",
   "metadata": {},
   "outputs": [
    {
     "data": {
      "text/plain": [
       "False"
      ]
     },
     "execution_count": 85,
     "metadata": {},
     "output_type": "execute_result"
    }
   ],
   "source": [
    "#Not operator \n",
    "not True"
   ]
  },
  {
   "cell_type": "code",
   "execution_count": 87,
   "id": "5e94ece7-3aa6-41ce-a7ad-67b4869b2077",
   "metadata": {},
   "outputs": [
    {
     "data": {
      "text/plain": [
       "True"
      ]
     },
     "execution_count": 87,
     "metadata": {},
     "output_type": "execute_result"
    }
   ],
   "source": [
    "not False"
   ]
  },
  {
   "cell_type": "code",
   "execution_count": 89,
   "id": "6f3b936b-ef9b-4d28-af4c-f2f0dc34bead",
   "metadata": {},
   "outputs": [],
   "source": [
    "#Assignment operator >> assigning some value "
   ]
  },
  {
   "cell_type": "code",
   "execution_count": 113,
   "id": "c73f7b75-3d9e-4960-83f5-915a3d9a47c5",
   "metadata": {},
   "outputs": [
    {
     "data": {
      "text/plain": [
       "20"
      ]
     },
     "execution_count": 113,
     "metadata": {},
     "output_type": "execute_result"
    }
   ],
   "source": [
    "a = 20\n",
    "a"
   ]
  },
  {
   "cell_type": "code",
   "execution_count": 93,
   "id": "6ef0caaa-ee78-4150-903f-80a5c846160e",
   "metadata": {},
   "outputs": [
    {
     "data": {
      "text/plain": [
       "28"
      ]
     },
     "execution_count": 93,
     "metadata": {},
     "output_type": "execute_result"
    }
   ],
   "source": [
    "a + 8"
   ]
  },
  {
   "cell_type": "code",
   "execution_count": 115,
   "id": "a21aa4b0-5b36-467d-9830-53068b68912e",
   "metadata": {},
   "outputs": [
    {
     "data": {
      "text/plain": [
       "15"
      ]
     },
     "execution_count": 115,
     "metadata": {},
     "output_type": "execute_result"
    }
   ],
   "source": [
    "a - 5"
   ]
  },
  {
   "cell_type": "code",
   "execution_count": 125,
   "id": "bce713c6-4716-486d-994a-ea7af802bd34",
   "metadata": {},
   "outputs": [
    {
     "data": {
      "text/plain": [
       "10"
      ]
     },
     "execution_count": 125,
     "metadata": {},
     "output_type": "execute_result"
    }
   ],
   "source": [
    "b = 10\n",
    "b"
   ]
  },
  {
   "cell_type": "code",
   "execution_count": 127,
   "id": "0330f89c-2b2d-4b6d-afa5-5a5c1b81659a",
   "metadata": {},
   "outputs": [
    {
     "data": {
      "text/plain": [
       "15"
      ]
     },
     "execution_count": 127,
     "metadata": {},
     "output_type": "execute_result"
    }
   ],
   "source": [
    "b = b + 5\n",
    "b"
   ]
  },
  {
   "cell_type": "code",
   "execution_count": 139,
   "id": "c1d5aa68-45cd-4e19-804f-0e00bdb826df",
   "metadata": {},
   "outputs": [
    {
     "data": {
      "text/plain": [
       "20"
      ]
     },
     "execution_count": 139,
     "metadata": {},
     "output_type": "execute_result"
    }
   ],
   "source": [
    "b = 20\n",
    "b"
   ]
  },
  {
   "cell_type": "code",
   "execution_count": 141,
   "id": "7ae53d3d-2a08-46ed-a0bb-99fa160a0d81",
   "metadata": {},
   "outputs": [
    {
     "data": {
      "text/plain": [
       "25"
      ]
     },
     "execution_count": 141,
     "metadata": {},
     "output_type": "execute_result"
    }
   ],
   "source": [
    "b += 5\n",
    "b"
   ]
  },
  {
   "cell_type": "code",
   "execution_count": 143,
   "id": "7900dc61-c8e3-4016-adbb-e169fdff1251",
   "metadata": {},
   "outputs": [],
   "source": [
    "#Membership operator >> If some member that you are looking for is thier in the string or any container or not."
   ]
  },
  {
   "cell_type": "code",
   "execution_count": 145,
   "id": "867c350b-6c1f-41d2-bd73-0c9446158dc8",
   "metadata": {},
   "outputs": [
    {
     "data": {
      "text/plain": [
       "True"
      ]
     },
     "execution_count": 145,
     "metadata": {},
     "output_type": "execute_result"
    }
   ],
   "source": [
    "a = \"python\"\n",
    "\"p\" in a"
   ]
  },
  {
   "cell_type": "code",
   "execution_count": 147,
   "id": "4bba00e5-3a8b-4d5f-add3-c7162cb1ec19",
   "metadata": {},
   "outputs": [
    {
     "data": {
      "text/plain": [
       "True"
      ]
     },
     "execution_count": 147,
     "metadata": {},
     "output_type": "execute_result"
    }
   ],
   "source": [
    "\"n\" in a"
   ]
  },
  {
   "cell_type": "code",
   "execution_count": 149,
   "id": "69354ec9-f7ee-4997-94b8-e461d2eca20e",
   "metadata": {},
   "outputs": [
    {
     "data": {
      "text/plain": [
       "False"
      ]
     },
     "execution_count": 149,
     "metadata": {},
     "output_type": "execute_result"
    }
   ],
   "source": [
    "\"t\" not in a"
   ]
  },
  {
   "cell_type": "code",
   "execution_count": 151,
   "id": "7c126f70-32db-43e3-ad1d-ce93715a7008",
   "metadata": {},
   "outputs": [],
   "source": [
    "#Identity operator >> compare the location of two objects/variables."
   ]
  },
  {
   "cell_type": "code",
   "execution_count": 153,
   "id": "704b5a4f-5f56-429f-9724-6daeacf3e10e",
   "metadata": {},
   "outputs": [],
   "source": [
    "a = 5"
   ]
  },
  {
   "cell_type": "code",
   "execution_count": 155,
   "id": "bb7d5484-27b4-496b-a358-58323b5b0e44",
   "metadata": {},
   "outputs": [],
   "source": [
    "b = 6"
   ]
  },
  {
   "cell_type": "code",
   "execution_count": 157,
   "id": "2baa1754-1b8e-4067-b61e-a279d2e99453",
   "metadata": {},
   "outputs": [
    {
     "data": {
      "text/plain": [
       "False"
      ]
     },
     "execution_count": 157,
     "metadata": {},
     "output_type": "execute_result"
    }
   ],
   "source": [
    "a is b       # a and b another memory block"
   ]
  },
  {
   "cell_type": "code",
   "execution_count": 159,
   "id": "cb078f27-0417-418c-b44a-c0c8a36faae2",
   "metadata": {},
   "outputs": [
    {
     "data": {
      "text/plain": [
       "True"
      ]
     },
     "execution_count": 159,
     "metadata": {},
     "output_type": "execute_result"
    }
   ],
   "source": [
    "a is not b"
   ]
  },
  {
   "cell_type": "code",
   "execution_count": 161,
   "id": "cdb0e7a7-0d92-4201-b527-00ce3c4d589a",
   "metadata": {},
   "outputs": [],
   "source": [
    "a = 5"
   ]
  },
  {
   "cell_type": "code",
   "execution_count": 163,
   "id": "4f49b497-9f7a-4488-a9a7-c5edf1d0e41a",
   "metadata": {},
   "outputs": [],
   "source": [
    "b = a        # b will also point same memory block"
   ]
  },
  {
   "cell_type": "code",
   "execution_count": 165,
   "id": "075f28ed-b69b-4acd-829c-ce113d82ea1e",
   "metadata": {},
   "outputs": [
    {
     "data": {
      "text/plain": [
       "True"
      ]
     },
     "execution_count": 165,
     "metadata": {},
     "output_type": "execute_result"
    }
   ],
   "source": [
    "a is b"
   ]
  },
  {
   "cell_type": "code",
   "execution_count": 167,
   "id": "f1c210fc-5277-427d-87dc-6dbcf98aa0ff",
   "metadata": {},
   "outputs": [],
   "source": [
    "#Bitwise operator >> operation al Bit level, values stored in form of 0 and 1."
   ]
  },
  {
   "cell_type": "code",
   "execution_count": 169,
   "id": "bcd272d1-26bb-4141-a8ef-cd8f438345b6",
   "metadata": {},
   "outputs": [
    {
     "data": {
      "text/plain": [
       "'0b101'"
      ]
     },
     "execution_count": 169,
     "metadata": {},
     "output_type": "execute_result"
    }
   ],
   "source": [
    "#And bit operator\n",
    "bin (5)"
   ]
  },
  {
   "cell_type": "code",
   "execution_count": 171,
   "id": "9cc82b4b-2ac4-4ea7-9af9-208db46afd8b",
   "metadata": {},
   "outputs": [
    {
     "data": {
      "text/plain": [
       "'0b11'"
      ]
     },
     "execution_count": 171,
     "metadata": {},
     "output_type": "execute_result"
    }
   ],
   "source": [
    "bin (3)"
   ]
  },
  {
   "cell_type": "code",
   "execution_count": 173,
   "id": "bc1394fc-0c55-40f8-9c6b-1efe8bb4f35c",
   "metadata": {},
   "outputs": [
    {
     "data": {
      "text/plain": [
       "1"
      ]
     },
     "execution_count": 173,
     "metadata": {},
     "output_type": "execute_result"
    }
   ],
   "source": [
    "5 & 3"
   ]
  },
  {
   "cell_type": "code",
   "execution_count": 189,
   "id": "61d0780b-f7df-48ac-bcf8-5cfaab6cfcad",
   "metadata": {},
   "outputs": [
    {
     "data": {
      "text/plain": [
       "'0b1'"
      ]
     },
     "execution_count": 189,
     "metadata": {},
     "output_type": "execute_result"
    }
   ],
   "source": [
    "bin (1)"
   ]
  },
  {
   "cell_type": "code",
   "execution_count": null,
   "id": "2739d3b6-08fb-47a1-b67b-2ed946da830c",
   "metadata": {},
   "outputs": [],
   "source": [
    "#OR bit operator"
   ]
  },
  {
   "cell_type": "code",
   "execution_count": 195,
   "id": "8943ce60-a50a-42e8-8556-968f2417366c",
   "metadata": {},
   "outputs": [
    {
     "data": {
      "text/plain": [
       "6"
      ]
     },
     "execution_count": 195,
     "metadata": {},
     "output_type": "execute_result"
    }
   ],
   "source": [
    "4 | 6"
   ]
  },
  {
   "cell_type": "code",
   "execution_count": 197,
   "id": "2b572378-6e3e-4f23-8cb7-389cd5a176e4",
   "metadata": {},
   "outputs": [
    {
     "data": {
      "text/plain": [
       "'0b110'"
      ]
     },
     "execution_count": 197,
     "metadata": {},
     "output_type": "execute_result"
    }
   ],
   "source": [
    "bin (6)"
   ]
  },
  {
   "cell_type": "code",
   "execution_count": 199,
   "id": "6b752716-6b4b-43b7-99fa-9c652b7ed2d3",
   "metadata": {},
   "outputs": [],
   "source": [
    "#negation (~) >> It will give you a value one lower than that number with a minuse symbol."
   ]
  },
  {
   "cell_type": "code",
   "execution_count": 201,
   "id": "287705cf-f118-4049-9ae3-fd500a47aece",
   "metadata": {},
   "outputs": [
    {
     "data": {
      "text/plain": [
       "-6"
      ]
     },
     "execution_count": 201,
     "metadata": {},
     "output_type": "execute_result"
    }
   ],
   "source": [
    "~5"
   ]
  },
  {
   "cell_type": "code",
   "execution_count": 203,
   "id": "8bacd903-aa96-4de1-897a-d5fc66bca855",
   "metadata": {},
   "outputs": [],
   "source": [
    "#Bitwise XOR operation >> Returns 1 when exactly one operand is 1."
   ]
  },
  {
   "cell_type": "code",
   "execution_count": 207,
   "id": "bf26d708-c518-4f72-b3f8-68720e1d9d2f",
   "metadata": {},
   "outputs": [
    {
     "data": {
      "text/plain": [
       "2"
      ]
     },
     "execution_count": 207,
     "metadata": {},
     "output_type": "execute_result"
    }
   ],
   "source": [
    "5 ^ 7"
   ]
  },
  {
   "cell_type": "code",
   "execution_count": 209,
   "id": "ef4cfe3e-59fa-4c8f-ae4c-97c899f38411",
   "metadata": {},
   "outputs": [
    {
     "data": {
      "text/plain": [
       "'0b101'"
      ]
     },
     "execution_count": 209,
     "metadata": {},
     "output_type": "execute_result"
    }
   ],
   "source": [
    "bin (5)"
   ]
  },
  {
   "cell_type": "code",
   "execution_count": 211,
   "id": "1f3108f3-f7a7-4cb3-add8-a23a013dfbff",
   "metadata": {},
   "outputs": [
    {
     "data": {
      "text/plain": [
       "'0b111'"
      ]
     },
     "execution_count": 211,
     "metadata": {},
     "output_type": "execute_result"
    }
   ],
   "source": [
    "bin (7)"
   ]
  },
  {
   "cell_type": "code",
   "execution_count": 213,
   "id": "455d66c2-ff26-4e03-839f-fe6903deeb9c",
   "metadata": {},
   "outputs": [
    {
     "data": {
      "text/plain": [
       "'0b10'"
      ]
     },
     "execution_count": 213,
     "metadata": {},
     "output_type": "execute_result"
    }
   ],
   "source": [
    "bin (2)"
   ]
  },
  {
   "cell_type": "code",
   "execution_count": 215,
   "id": "c7e12d95-275e-44ea-aae5-80dd21dd38b5",
   "metadata": {},
   "outputs": [],
   "source": [
    "#Shift operator >> shift the bits by left and right"
   ]
  },
  {
   "cell_type": "code",
   "execution_count": 217,
   "id": "646f4f4f-be73-451c-8771-b6a3a54391bd",
   "metadata": {},
   "outputs": [],
   "source": [
    "#Left shift operator"
   ]
  },
  {
   "cell_type": "code",
   "execution_count": 219,
   "id": "00ba3406-1555-488b-bb83-b31b0fb1241d",
   "metadata": {},
   "outputs": [
    {
     "data": {
      "text/plain": [
       "200"
      ]
     },
     "execution_count": 219,
     "metadata": {},
     "output_type": "execute_result"
    }
   ],
   "source": [
    "25 << 3"
   ]
  },
  {
   "cell_type": "code",
   "execution_count": 221,
   "id": "360e7458-a653-4f14-b90b-a2846f0030a0",
   "metadata": {},
   "outputs": [
    {
     "data": {
      "text/plain": [
       "'0b11001'"
      ]
     },
     "execution_count": 221,
     "metadata": {},
     "output_type": "execute_result"
    }
   ],
   "source": [
    "bin (25)"
   ]
  },
  {
   "cell_type": "code",
   "execution_count": 223,
   "id": "92cdd32e-0f69-47c5-85c3-f7103a320dda",
   "metadata": {},
   "outputs": [
    {
     "data": {
      "text/plain": [
       "'0b11001000'"
      ]
     },
     "execution_count": 223,
     "metadata": {},
     "output_type": "execute_result"
    }
   ],
   "source": [
    "bin (200)"
   ]
  },
  {
   "cell_type": "code",
   "execution_count": 225,
   "id": "01a732ed-0009-4b6e-aa05-a84b827468ba",
   "metadata": {},
   "outputs": [],
   "source": [
    "#Right shift operator"
   ]
  },
  {
   "cell_type": "code",
   "execution_count": 227,
   "id": "cd8e7eb8-7f31-4a11-b12c-1953fc6ca3d3",
   "metadata": {},
   "outputs": [
    {
     "data": {
      "text/plain": [
       "25"
      ]
     },
     "execution_count": 227,
     "metadata": {},
     "output_type": "execute_result"
    }
   ],
   "source": [
    "200 >> 3"
   ]
  },
  {
   "cell_type": "markdown",
   "id": "ac9a26e7-4452-4f9b-9673-7124c489e097",
   "metadata": {},
   "source": [
    "#Question(5)_Explain the concept of type casting in Python with examples."
   ]
  },
  {
   "cell_type": "markdown",
   "id": "9018ce5f-2910-49ac-8ebc-70cf5a77762d",
   "metadata": {},
   "source": [
    "#Answer_Type casting, also referred to as type conversion, is the process of changing one data type to another in Python. \r\n",
    "Python provides built-in functions for type casting, such as int(), float(), str(), list(), tuple(), dict(), etc.\r\n",
    "Type casting is often necessary for performing arithmetic operations, data manipulation, and input/output operations in Python programs."
   ]
  },
  {
   "cell_type": "code",
   "execution_count": 231,
   "id": "8dc77f5d-9ab2-4df8-a3e8-cfe0e4ef455f",
   "metadata": {},
   "outputs": [],
   "source": [
    "a = \"5\""
   ]
  },
  {
   "cell_type": "code",
   "execution_count": 233,
   "id": "7fe12e08-d06c-48d2-bc30-a0644b7d0738",
   "metadata": {},
   "outputs": [],
   "source": [
    "b = 7"
   ]
  },
  {
   "cell_type": "code",
   "execution_count": 235,
   "id": "b52dbf72-db44-4dbc-b28d-3c098e5f4ff1",
   "metadata": {},
   "outputs": [
    {
     "ename": "TypeError",
     "evalue": "can only concatenate str (not \"int\") to str",
     "output_type": "error",
     "traceback": [
      "\u001b[1;31m---------------------------------------------------------------------------\u001b[0m",
      "\u001b[1;31mTypeError\u001b[0m                                 Traceback (most recent call last)",
      "Cell \u001b[1;32mIn[235], line 1\u001b[0m\n\u001b[1;32m----> 1\u001b[0m a \u001b[38;5;241m+\u001b[39m b\n",
      "\u001b[1;31mTypeError\u001b[0m: can only concatenate str (not \"int\") to str"
     ]
    }
   ],
   "source": [
    "a + b        # "
   ]
  },
  {
   "cell_type": "code",
   "execution_count": 237,
   "id": "cbedc54f-faad-4bed-88d2-1856a72815ec",
   "metadata": {},
   "outputs": [
    {
     "data": {
      "text/plain": [
       "str"
      ]
     },
     "execution_count": 237,
     "metadata": {},
     "output_type": "execute_result"
    }
   ],
   "source": [
    "type (a)"
   ]
  },
  {
   "cell_type": "code",
   "execution_count": 239,
   "id": "c605515b-9aa4-4cbe-a001-de4f604f380d",
   "metadata": {},
   "outputs": [
    {
     "data": {
      "text/plain": [
       "int"
      ]
     },
     "execution_count": 239,
     "metadata": {},
     "output_type": "execute_result"
    }
   ],
   "source": [
    "type (b)"
   ]
  },
  {
   "cell_type": "code",
   "execution_count": 243,
   "id": "be72dd9c-2723-41e9-b7e3-0eb1ed89af92",
   "metadata": {},
   "outputs": [
    {
     "data": {
      "text/plain": [
       "12"
      ]
     },
     "execution_count": 243,
     "metadata": {},
     "output_type": "execute_result"
    }
   ],
   "source": [
    "int (a) + b              # same data type will be able to perform the operation.string and integer can not be able to perform \n",
    "                           operation until string not change into integer or float."
   ]
  },
  {
   "cell_type": "code",
   "execution_count": 245,
   "id": "816c9446-cf07-4ce5-bbe5-2b3a69893639",
   "metadata": {},
   "outputs": [],
   "source": [
    "#String to integer"
   ]
  },
  {
   "cell_type": "code",
   "execution_count": 247,
   "id": "5e89227b-7980-4a34-bc91-d408604b5222",
   "metadata": {},
   "outputs": [],
   "source": [
    "a = \"5\""
   ]
  },
  {
   "cell_type": "code",
   "execution_count": 249,
   "id": "99974447-cc90-4d8e-bd4e-4b26e832e193",
   "metadata": {},
   "outputs": [
    {
     "name": "stdout",
     "output_type": "stream",
     "text": [
      "<class 'str'>\n"
     ]
    }
   ],
   "source": [
    "print (type(a))"
   ]
  },
  {
   "cell_type": "code",
   "execution_count": 251,
   "id": "5aad1d20-8f7c-4223-8622-bdda05789ef8",
   "metadata": {},
   "outputs": [
    {
     "name": "stdout",
     "output_type": "stream",
     "text": [
      "<class 'int'>\n"
     ]
    }
   ],
   "source": [
    "print (type(int(a)))"
   ]
  },
  {
   "cell_type": "code",
   "execution_count": 253,
   "id": "6ae05b00-0976-4677-8b8e-144e09b9b89a",
   "metadata": {},
   "outputs": [],
   "source": [
    "#Float to integer"
   ]
  },
  {
   "cell_type": "code",
   "execution_count": 255,
   "id": "ca9dd7d3-42a5-4823-966f-f9a0d944a5f0",
   "metadata": {},
   "outputs": [],
   "source": [
    "a = 5.7"
   ]
  },
  {
   "cell_type": "code",
   "execution_count": 257,
   "id": "4c396d0e-a6a3-4a50-b241-b32d2791854f",
   "metadata": {},
   "outputs": [
    {
     "data": {
      "text/plain": [
       "float"
      ]
     },
     "execution_count": 257,
     "metadata": {},
     "output_type": "execute_result"
    }
   ],
   "source": [
    "type (a)"
   ]
  },
  {
   "cell_type": "code",
   "execution_count": 259,
   "id": "e1065e77-cb63-469a-ab75-e5fb4b9865ea",
   "metadata": {},
   "outputs": [
    {
     "data": {
      "text/plain": [
       "5"
      ]
     },
     "execution_count": 259,
     "metadata": {},
     "output_type": "execute_result"
    }
   ],
   "source": [
    "int (a)"
   ]
  },
  {
   "cell_type": "code",
   "execution_count": 261,
   "id": "2164351b-8c5a-469a-a4c8-85b8dfa8d024",
   "metadata": {},
   "outputs": [],
   "source": [
    "b = 8.9"
   ]
  },
  {
   "cell_type": "code",
   "execution_count": 263,
   "id": "29145e96-af34-4916-913a-512a59a5d58f",
   "metadata": {},
   "outputs": [
    {
     "data": {
      "text/plain": [
       "float"
      ]
     },
     "execution_count": 263,
     "metadata": {},
     "output_type": "execute_result"
    }
   ],
   "source": [
    "type (b)"
   ]
  },
  {
   "cell_type": "code",
   "execution_count": 265,
   "id": "06b45ee6-e81b-43bc-9734-d76d765c7c97",
   "metadata": {},
   "outputs": [],
   "source": [
    "float_value = int (b)"
   ]
  },
  {
   "cell_type": "code",
   "execution_count": 267,
   "id": "eec507eb-84fd-4205-b2de-e3db3302363b",
   "metadata": {},
   "outputs": [
    {
     "data": {
      "text/plain": [
       "int"
      ]
     },
     "execution_count": 267,
     "metadata": {},
     "output_type": "execute_result"
    }
   ],
   "source": [
    "type (float_value)"
   ]
  },
  {
   "cell_type": "code",
   "execution_count": 269,
   "id": "cd30dcd8-42a2-428f-80ca-766463f28455",
   "metadata": {},
   "outputs": [],
   "source": [
    "#Integer to float"
   ]
  },
  {
   "cell_type": "code",
   "execution_count": 271,
   "id": "10e823c7-cdf2-424d-b49c-8ef2e6919218",
   "metadata": {},
   "outputs": [],
   "source": [
    "a = 5"
   ]
  },
  {
   "cell_type": "code",
   "execution_count": 273,
   "id": "b83fe94b-dc01-423a-96d4-34f9807bdf55",
   "metadata": {},
   "outputs": [
    {
     "data": {
      "text/plain": [
       "int"
      ]
     },
     "execution_count": 273,
     "metadata": {},
     "output_type": "execute_result"
    }
   ],
   "source": [
    "type (a)"
   ]
  },
  {
   "cell_type": "code",
   "execution_count": 279,
   "id": "50a3dedf-d1a4-46f0-bf63-de77b532dc5c",
   "metadata": {},
   "outputs": [
    {
     "data": {
      "text/plain": [
       "5.0"
      ]
     },
     "execution_count": 279,
     "metadata": {},
     "output_type": "execute_result"
    }
   ],
   "source": [
    "a = float (5)\n",
    "a"
   ]
  },
  {
   "cell_type": "code",
   "execution_count": 281,
   "id": "90cc3e2f-5bc2-4482-b307-51bbb06b49d2",
   "metadata": {},
   "outputs": [
    {
     "data": {
      "text/plain": [
       "float"
      ]
     },
     "execution_count": 281,
     "metadata": {},
     "output_type": "execute_result"
    }
   ],
   "source": [
    "type (a)"
   ]
  },
  {
   "cell_type": "code",
   "execution_count": 283,
   "id": "c3cbcf5e-8b28-475b-903a-a5727bdb3fbb",
   "metadata": {},
   "outputs": [],
   "source": [
    "#String to float"
   ]
  },
  {
   "cell_type": "code",
   "execution_count": 285,
   "id": "591a1f5d-00bf-4d0a-94f8-b32d61070e67",
   "metadata": {},
   "outputs": [],
   "source": [
    "a = \" 5.5\""
   ]
  },
  {
   "cell_type": "code",
   "execution_count": 287,
   "id": "1d8074c9-d43d-4a90-b425-fe7030f03f40",
   "metadata": {},
   "outputs": [
    {
     "data": {
      "text/plain": [
       "str"
      ]
     },
     "execution_count": 287,
     "metadata": {},
     "output_type": "execute_result"
    }
   ],
   "source": [
    "type (a)"
   ]
  },
  {
   "cell_type": "code",
   "execution_count": 297,
   "id": "19414343-2989-4cd9-9536-755ca8eed505",
   "metadata": {},
   "outputs": [
    {
     "data": {
      "text/plain": [
       "5.5"
      ]
     },
     "execution_count": 297,
     "metadata": {},
     "output_type": "execute_result"
    }
   ],
   "source": [
    "a = float (5.5)\n",
    "a"
   ]
  },
  {
   "cell_type": "code",
   "execution_count": 299,
   "id": "6861a9b0-ecad-43f0-bc11-0814a9db6593",
   "metadata": {},
   "outputs": [
    {
     "data": {
      "text/plain": [
       "float"
      ]
     },
     "execution_count": 299,
     "metadata": {},
     "output_type": "execute_result"
    }
   ],
   "source": [
    "type (a)"
   ]
  },
  {
   "cell_type": "code",
   "execution_count": 301,
   "id": "5fe69b73-26d8-477f-a526-d40235a8893a",
   "metadata": {},
   "outputs": [],
   "source": [
    "a = \"python\""
   ]
  },
  {
   "cell_type": "code",
   "execution_count": 303,
   "id": "c2e84a51-34ef-4ea8-bb5d-840ecc5fec4d",
   "metadata": {},
   "outputs": [
    {
     "data": {
      "text/plain": [
       "str"
      ]
     },
     "execution_count": 303,
     "metadata": {},
     "output_type": "execute_result"
    }
   ],
   "source": [
    "type (a)"
   ]
  },
  {
   "cell_type": "code",
   "execution_count": 305,
   "id": "a21cd3e2-5ed4-48b8-9188-bd8fb4a5317d",
   "metadata": {},
   "outputs": [
    {
     "ename": "ValueError",
     "evalue": "invalid literal for int() with base 10: 'python'",
     "output_type": "error",
     "traceback": [
      "\u001b[1;31m---------------------------------------------------------------------------\u001b[0m",
      "\u001b[1;31mValueError\u001b[0m                                Traceback (most recent call last)",
      "Cell \u001b[1;32mIn[305], line 1\u001b[0m\n\u001b[1;32m----> 1\u001b[0m \u001b[38;5;28mint\u001b[39m (a)\n",
      "\u001b[1;31mValueError\u001b[0m: invalid literal for int() with base 10: 'python'"
     ]
    }
   ],
   "source": [
    "int (a)"
   ]
  },
  {
   "cell_type": "code",
   "execution_count": 307,
   "id": "456ac839-8edb-4952-b296-3eafa6b0dc3e",
   "metadata": {},
   "outputs": [
    {
     "ename": "ValueError",
     "evalue": "could not convert string to float: 'python'",
     "output_type": "error",
     "traceback": [
      "\u001b[1;31m---------------------------------------------------------------------------\u001b[0m",
      "\u001b[1;31mValueError\u001b[0m                                Traceback (most recent call last)",
      "Cell \u001b[1;32mIn[307], line 1\u001b[0m\n\u001b[1;32m----> 1\u001b[0m \u001b[38;5;28mfloat\u001b[39m (a)\n",
      "\u001b[1;31mValueError\u001b[0m: could not convert string to float: 'python'"
     ]
    }
   ],
   "source": [
    "float (a)              # Character can not be converted into numbers/Float/integer."
   ]
  },
  {
   "cell_type": "code",
   "execution_count": 309,
   "id": "6f99514a-4813-438a-ab98-4ed7f09f554d",
   "metadata": {},
   "outputs": [],
   "source": [
    "#Integer to string"
   ]
  },
  {
   "cell_type": "code",
   "execution_count": 311,
   "id": "a9aebf0c-09a3-4576-96e1-477ff561c5d6",
   "metadata": {},
   "outputs": [],
   "source": [
    "a = 10"
   ]
  },
  {
   "cell_type": "code",
   "execution_count": 313,
   "id": "316097dc-6cc4-411e-a3ef-0e58e69aee27",
   "metadata": {},
   "outputs": [
    {
     "data": {
      "text/plain": [
       "int"
      ]
     },
     "execution_count": 313,
     "metadata": {},
     "output_type": "execute_result"
    }
   ],
   "source": [
    "type (a)"
   ]
  },
  {
   "cell_type": "code",
   "execution_count": 325,
   "id": "bce3dc24-77e4-45ee-9e40-29c59628e3f9",
   "metadata": {},
   "outputs": [],
   "source": [
    "a = 10"
   ]
  },
  {
   "cell_type": "code",
   "execution_count": 329,
   "id": "e2a162d1-27e4-4936-ad50-794a2c26323c",
   "metadata": {},
   "outputs": [
    {
     "data": {
      "text/plain": [
       "'10'"
      ]
     },
     "execution_count": 329,
     "metadata": {},
     "output_type": "execute_result"
    }
   ],
   "source": [
    "b = str (a)\n",
    "b"
   ]
  },
  {
   "cell_type": "code",
   "execution_count": 331,
   "id": "046eb16c-f687-4f94-95bd-d803996de001",
   "metadata": {},
   "outputs": [
    {
     "data": {
      "text/plain": [
       "str"
      ]
     },
     "execution_count": 331,
     "metadata": {},
     "output_type": "execute_result"
    }
   ],
   "source": [
    "type (b)"
   ]
  },
  {
   "cell_type": "code",
   "execution_count": 333,
   "id": "22505969-23a0-4a59-9d2c-b15c9d1eaa1e",
   "metadata": {},
   "outputs": [],
   "source": [
    "#Type castting >> Two types of type casting >> Implicit and Explicit type casting"
   ]
  },
  {
   "cell_type": "code",
   "execution_count": 335,
   "id": "4fd1adbc-2cc5-4d80-ab1a-c70016b0225b",
   "metadata": {},
   "outputs": [],
   "source": [
    "#Implicit typecasting >> python understand the datatype whatever variable defined."
   ]
  },
  {
   "cell_type": "code",
   "execution_count": 337,
   "id": "0613f3e6-c3c1-4cb2-b80d-b0d942bb7074",
   "metadata": {},
   "outputs": [],
   "source": [
    "a = 10"
   ]
  },
  {
   "cell_type": "code",
   "execution_count": 339,
   "id": "7cded880-5e62-4519-871f-505ea20c7d41",
   "metadata": {},
   "outputs": [
    {
     "data": {
      "text/plain": [
       "int"
      ]
     },
     "execution_count": 339,
     "metadata": {},
     "output_type": "execute_result"
    }
   ],
   "source": [
    "type (a)"
   ]
  },
  {
   "cell_type": "code",
   "execution_count": 341,
   "id": "ea4f60bb-d799-41f1-98b9-667ac266c5e7",
   "metadata": {},
   "outputs": [
    {
     "data": {
      "text/plain": [
       "13"
      ]
     },
     "execution_count": 341,
     "metadata": {},
     "output_type": "execute_result"
    }
   ],
   "source": [
    "5 +8"
   ]
  },
  {
   "cell_type": "code",
   "execution_count": 343,
   "id": "d6352641-503a-497a-b55f-d54cc0aab2ee",
   "metadata": {},
   "outputs": [
    {
     "data": {
      "text/plain": [
       "13.7"
      ]
     },
     "execution_count": 343,
     "metadata": {},
     "output_type": "execute_result"
    }
   ],
   "source": [
    "5 + 8.7"
   ]
  },
  {
   "cell_type": "code",
   "execution_count": 349,
   "id": "edbeaabd-3814-4e7b-ba21-815c88ccf721",
   "metadata": {},
   "outputs": [
    {
     "data": {
      "text/plain": [
       "float"
      ]
     },
     "execution_count": 349,
     "metadata": {},
     "output_type": "execute_result"
    }
   ],
   "source": [
    "type (13.7)"
   ]
  },
  {
   "cell_type": "code",
   "execution_count": 351,
   "id": "daddccc4-9a6d-4f32-8d8b-1ac10dfc1584",
   "metadata": {},
   "outputs": [],
   "source": [
    "#Explicit typecasting >> convert data type using inbuilt function (str,int,float,bool)"
   ]
  },
  {
   "cell_type": "code",
   "execution_count": 353,
   "id": "c3f93f33-f90e-4095-8459-3f8096c9efac",
   "metadata": {},
   "outputs": [],
   "source": [
    "a = \"5\""
   ]
  },
  {
   "cell_type": "code",
   "execution_count": 355,
   "id": "9c4ad503-9563-44aa-a9da-27a476e5c7e2",
   "metadata": {},
   "outputs": [
    {
     "data": {
      "text/plain": [
       "str"
      ]
     },
     "execution_count": 355,
     "metadata": {},
     "output_type": "execute_result"
    }
   ],
   "source": [
    "type (a)"
   ]
  },
  {
   "cell_type": "code",
   "execution_count": 357,
   "id": "53e19a01-a051-47c4-b2f0-af2ee5b21ecb",
   "metadata": {},
   "outputs": [
    {
     "data": {
      "text/plain": [
       "5"
      ]
     },
     "execution_count": 357,
     "metadata": {},
     "output_type": "execute_result"
    }
   ],
   "source": [
    "int (a)"
   ]
  },
  {
   "cell_type": "code",
   "execution_count": 359,
   "id": "01d88482-d490-4860-bcd7-bca57e4af4d7",
   "metadata": {},
   "outputs": [
    {
     "data": {
      "text/plain": [
       "5.0"
      ]
     },
     "execution_count": 359,
     "metadata": {},
     "output_type": "execute_result"
    }
   ],
   "source": [
    "float (a)"
   ]
  },
  {
   "cell_type": "code",
   "execution_count": 361,
   "id": "854d9597-c894-4b48-8bd1-884e2cc020cd",
   "metadata": {},
   "outputs": [],
   "source": [
    "a = \"python\""
   ]
  },
  {
   "cell_type": "code",
   "execution_count": 363,
   "id": "9713546d-5e0f-4004-b4ad-af7d783dc604",
   "metadata": {},
   "outputs": [
    {
     "data": {
      "text/plain": [
       "str"
      ]
     },
     "execution_count": 363,
     "metadata": {},
     "output_type": "execute_result"
    }
   ],
   "source": [
    "type (a)"
   ]
  },
  {
   "cell_type": "code",
   "execution_count": 365,
   "id": "d133b638-28dc-4f0e-9d01-f5d5a77d5f23",
   "metadata": {},
   "outputs": [],
   "source": [
    "b = 2"
   ]
  },
  {
   "cell_type": "code",
   "execution_count": 369,
   "id": "8af5e361-28dc-4af2-8d1a-f98f0835ab8e",
   "metadata": {},
   "outputs": [
    {
     "data": {
      "text/plain": [
       "int"
      ]
     },
     "execution_count": 369,
     "metadata": {},
     "output_type": "execute_result"
    }
   ],
   "source": [
    "type (b)"
   ]
  },
  {
   "cell_type": "code",
   "execution_count": 371,
   "id": "72831a8b-186a-4824-ac9a-20830b5614f1",
   "metadata": {},
   "outputs": [
    {
     "ename": "TypeError",
     "evalue": "can only concatenate str (not \"int\") to str",
     "output_type": "error",
     "traceback": [
      "\u001b[1;31m---------------------------------------------------------------------------\u001b[0m",
      "\u001b[1;31mTypeError\u001b[0m                                 Traceback (most recent call last)",
      "Cell \u001b[1;32mIn[371], line 1\u001b[0m\n\u001b[1;32m----> 1\u001b[0m a \u001b[38;5;241m+\u001b[39m b\n",
      "\u001b[1;31mTypeError\u001b[0m: can only concatenate str (not \"int\") to str"
     ]
    }
   ],
   "source": [
    "a + b"
   ]
  },
  {
   "cell_type": "code",
   "execution_count": 397,
   "id": "907e9c60-17cf-4f63-ae18-dc6ca2523f7a",
   "metadata": {},
   "outputs": [],
   "source": [
    "a = \"Python\""
   ]
  },
  {
   "cell_type": "code",
   "execution_count": 399,
   "id": "404c5107-b840-426b-a6b1-157f8095e359",
   "metadata": {},
   "outputs": [],
   "source": [
    "b = \"Basic\"                  #concatenation of string means combine the strings."
   ]
  },
  {
   "cell_type": "code",
   "execution_count": 401,
   "id": "0977264f-90c5-48e6-84ee-ad881584d1d1",
   "metadata": {},
   "outputs": [],
   "source": [
    "c = \"Programming\"                "
   ]
  },
  {
   "cell_type": "code",
   "execution_count": 407,
   "id": "2898a9f2-ee57-47e8-a9fc-d61800557f83",
   "metadata": {},
   "outputs": [
    {
     "data": {
      "text/plain": [
       "'PythonBasicProgramming'"
      ]
     },
     "execution_count": 407,
     "metadata": {},
     "output_type": "execute_result"
    }
   ],
   "source": [
    "a + b + c"
   ]
  },
  {
   "cell_type": "code",
   "execution_count": 387,
   "id": "611a5d5a-e0f5-4dce-a602-3c35a73332c0",
   "metadata": {},
   "outputs": [],
   "source": [
    "#Boolian typecasting >> any value put more than 1 will be true."
   ]
  },
  {
   "cell_type": "code",
   "execution_count": 389,
   "id": "79605072-07c2-4722-b2d2-8b604d879ad2",
   "metadata": {},
   "outputs": [
    {
     "data": {
      "text/plain": [
       "True"
      ]
     },
     "execution_count": 389,
     "metadata": {},
     "output_type": "execute_result"
    }
   ],
   "source": [
    "bool (1)"
   ]
  },
  {
   "cell_type": "code",
   "execution_count": 391,
   "id": "6fab5d0d-1ad1-4368-834c-d548b206958d",
   "metadata": {},
   "outputs": [
    {
     "data": {
      "text/plain": [
       "False"
      ]
     },
     "execution_count": 391,
     "metadata": {},
     "output_type": "execute_result"
    }
   ],
   "source": [
    "bool (0)"
   ]
  },
  {
   "cell_type": "markdown",
   "id": "0ef152aa-05de-4c5c-98e5-49fe07670b66",
   "metadata": {},
   "source": [
    "#Question(6)_How do conditional statements work in Python? Illustrate with examples."
   ]
  },
  {
   "cell_type": "markdown",
   "id": "6ce81c84-acb6-4576-ac29-b6bfe269f2bd",
   "metadata": {},
   "source": [
    "#Answer_Conditionals in Python are used to execute code based on the evaluation of one or more conditions.\r\n",
    "Python supports conditional statements such as if, elif (else if)if elif(elseif)else, and else to control the flow of execution.\r\n",
    "Conditionals can be nested to handle multiple conditions and control different branches of execution based on the outcome of logical expressions."
   ]
  },
  {
   "cell_type": "code",
   "execution_count": 410,
   "id": "d219fda5-03ba-4cee-a5c6-929938146269",
   "metadata": {},
   "outputs": [],
   "source": [
    "#If statements"
   ]
  },
  {
   "cell_type": "code",
   "execution_count": 412,
   "id": "aa7845df-3052-42d9-b22b-344c86d014d6",
   "metadata": {},
   "outputs": [],
   "source": [
    "a = 200"
   ]
  },
  {
   "cell_type": "code",
   "execution_count": 418,
   "id": "4c0b72e4-1bba-459b-bd71-a9f3c38c7a2d",
   "metadata": {},
   "outputs": [
    {
     "name": "stdout",
     "output_type": "stream",
     "text": [
      "The number is greater than zero\n"
     ]
    }
   ],
   "source": [
    "if a > 0:\n",
    "    print(\"The number is greater than zero\")"
   ]
  },
  {
   "cell_type": "code",
   "execution_count": 420,
   "id": "3e74e02f-a0c2-4f57-b163-67f42faf5bad",
   "metadata": {},
   "outputs": [
    {
     "data": {
      "text/plain": [
       "False"
      ]
     },
     "execution_count": 420,
     "metadata": {},
     "output_type": "execute_result"
    }
   ],
   "source": [
    "a < 0"
   ]
  },
  {
   "cell_type": "code",
   "execution_count": 422,
   "id": "b1583daa-3b3b-4b0f-acf9-7408e1ee0684",
   "metadata": {},
   "outputs": [],
   "source": [
    "#If else condition >> execute the if block when the condition is true else execute else block."
   ]
  },
  {
   "cell_type": "code",
   "execution_count": 424,
   "id": "b1bb2d11-9804-4b1e-881b-f6db8985076d",
   "metadata": {},
   "outputs": [],
   "source": [
    "age =25"
   ]
  },
  {
   "cell_type": "code",
   "execution_count": 428,
   "id": "2c818eb9-dc56-4331-8b89-4ac411995acc",
   "metadata": {},
   "outputs": [
    {
     "name": "stdout",
     "output_type": "stream",
     "text": [
      "you are eligible to vote\n"
     ]
    }
   ],
   "source": [
    "if age >=18:\n",
    "    print (\"you are eligible to vote\")\n",
    "else : \n",
    "    print (\"you are not eligible to vote\")\n",
    "    "
   ]
  },
  {
   "cell_type": "code",
   "execution_count": 430,
   "id": "05c00535-8ee9-4e0d-96f9-8d7b28c7e6da",
   "metadata": {},
   "outputs": [],
   "source": [
    "age = 15"
   ]
  },
  {
   "cell_type": "code",
   "execution_count": 432,
   "id": "5afc63a2-5b16-4479-972a-fe923e3c4e41",
   "metadata": {},
   "outputs": [
    {
     "name": "stdout",
     "output_type": "stream",
     "text": [
      "you are not eligible to vote\n"
     ]
    }
   ],
   "source": [
    "if age >=18:\n",
    "    print (\"you are eligible to vote\")\n",
    "else : \n",
    "    print (\"you are not eligible to vote\")\n",
    "    "
   ]
  },
  {
   "cell_type": "code",
   "execution_count": 434,
   "id": "f18865eb-2d57-4879-b326-f4a8927bea31",
   "metadata": {},
   "outputs": [],
   "source": [
    "#If_elif_else condition"
   ]
  },
  {
   "cell_type": "code",
   "execution_count": 436,
   "id": "33658957-18aa-4dc4-86da-c97339b92611",
   "metadata": {},
   "outputs": [],
   "source": [
    "a = 50"
   ]
  },
  {
   "cell_type": "code",
   "execution_count": 440,
   "id": "d0da6cbe-70cf-49cd-bdc0-30afdab6deb0",
   "metadata": {},
   "outputs": [
    {
     "name": "stdout",
     "output_type": "stream",
     "text": [
      "The number is equal to 50\n"
     ]
    }
   ],
   "source": [
    "if a > 100:\n",
    "    print(\"a is greater than 100\")\n",
    "elif a < 50:\n",
    "    print(\"a is less than 50\")\n",
    "else :\n",
    "    print(\"The number is equal to 50\")\n",
    "          "
   ]
  },
  {
   "cell_type": "code",
   "execution_count": 448,
   "id": "c94a101b-ac3c-4c1a-80e4-f919a25e6ca1",
   "metadata": {},
   "outputs": [],
   "source": [
    "a =45"
   ]
  },
  {
   "cell_type": "code",
   "execution_count": 450,
   "id": "5cacced4-7714-4746-b393-1bd0fb44a5fe",
   "metadata": {},
   "outputs": [
    {
     "name": "stdout",
     "output_type": "stream",
     "text": [
      "a is less than 50\n"
     ]
    }
   ],
   "source": [
    "if a > 100:\n",
    "    print(\"a is greater than 100\")\n",
    "elif a < 50:\n",
    "    print(\"a is less than 50\")\n",
    "else :\n",
    "    print(\"The number is equal to 50\")"
   ]
  },
  {
   "cell_type": "code",
   "execution_count": 452,
   "id": "7b9820d2-3875-46e4-9bd4-f10ad66dc769",
   "metadata": {},
   "outputs": [],
   "source": [
    "a = 105"
   ]
  },
  {
   "cell_type": "code",
   "execution_count": 454,
   "id": "6282abd7-01c1-41e3-9a98-080674b52e16",
   "metadata": {},
   "outputs": [
    {
     "name": "stdout",
     "output_type": "stream",
     "text": [
      "a is greater than 100\n"
     ]
    }
   ],
   "source": [
    "if a > 100:\n",
    "    print(\"a is greater than 100\")\n",
    "elif a < 50:\n",
    "    print(\"a is less than 50\")\n",
    "else :\n",
    "    print(\"The number is equal to 5"
   ]
  },
  {
   "cell_type": "code",
   "execution_count": 456,
   "id": "e964ad9c-7edd-4f82-9dc0-fdc9aba3a7a9",
   "metadata": {},
   "outputs": [],
   "source": [
    "#Nested if else condition >> you can use n number of elif inside if else."
   ]
  },
  {
   "cell_type": "code",
   "execution_count": 458,
   "id": "e80f1f78-6b11-429f-b212-4ccbdf643639",
   "metadata": {},
   "outputs": [],
   "source": [
    "a = 10"
   ]
  },
  {
   "cell_type": "code",
   "execution_count": 460,
   "id": "a3ffad65-e34e-4b4d-8339-d502c816ae8e",
   "metadata": {},
   "outputs": [],
   "source": [
    "b = 20"
   ]
  },
  {
   "cell_type": "code",
   "execution_count": 464,
   "id": "bd982015-a5ee-4138-8fdc-d149582f70b3",
   "metadata": {},
   "outputs": [
    {
     "name": "stdout",
     "output_type": "stream",
     "text": [
      "a is not greater than 15\n"
     ]
    }
   ],
   "source": [
    "if a > 15:\n",
    "    if b > 17:\n",
    "        print (\"Both a and b is greater than 15\")\n",
    "    else :\n",
    "        print (\"a is greater than 15 but b is less than 15\")\n",
    "else :\n",
    "    print (\"a is not greater than 15\")"
   ]
  },
  {
   "cell_type": "markdown",
   "id": "29592b41-a614-4313-bbc7-28ec81c3aafc",
   "metadata": {},
   "source": [
    "#Question(7)_Describe the different types of loops in Python and their use cases with examples."
   ]
  },
  {
   "cell_type": "markdown",
   "id": "5efdf409-829a-463b-9c3e-44da6ebc111f",
   "metadata": {},
   "source": [
    "#Answer_In Python, loops are employed to repeat a sequence of actions or code until a specific condition is fulfilled. \r\n",
    "Python offers two primary types of loops: for loops and while loops\r\n",
    "“for” loops are used for iterating over a sequence of elements, while “while” loops are used for executing code until a specified condition become false"
   ]
  },
  {
   "cell_type": "code",
   "execution_count": 2,
   "id": "9ed33812-9ac3-453e-a409-0c47523517ef",
   "metadata": {},
   "outputs": [],
   "source": [
    "#While loop >> repeatedly executed a block of code untill a condition is met"
   ]
  },
  {
   "cell_type": "code",
   "execution_count": 4,
   "id": "39023eb0-6995-4006-838c-9133cf5fa255",
   "metadata": {},
   "outputs": [],
   "source": [
    "#while condition >> while is a keyword used for a while loop"
   ]
  },
  {
   "cell_type": "code",
   "execution_count": 6,
   "id": "e66adb33-c69b-435e-b024-173a6d2098ee",
   "metadata": {},
   "outputs": [],
   "source": [
    "p = 10"
   ]
  },
  {
   "cell_type": "code",
   "execution_count": 8,
   "id": "04c542dd-3b6f-4994-92a7-123c4268d7c2",
   "metadata": {},
   "outputs": [],
   "source": [
    "m = 5"
   ]
  },
  {
   "cell_type": "code",
   "execution_count": 10,
   "id": "7465282e-eb06-4381-872c-3dbd7c816d9f",
   "metadata": {},
   "outputs": [
    {
     "name": "stdout",
     "output_type": "stream",
     "text": [
      "5\n",
      "6\n",
      "7\n",
      "8\n",
      "9\n"
     ]
    }
   ],
   "source": [
    "while m < p:\n",
    "    print (m)\n",
    "    m = m +1"
   ]
  },
  {
   "cell_type": "code",
   "execution_count": 12,
   "id": "384af34c-b6bf-4057-af57-d3165dc47b64",
   "metadata": {},
   "outputs": [],
   "source": [
    "#break statement in while loop"
   ]
  },
  {
   "cell_type": "code",
   "execution_count": 14,
   "id": "67decdce-3627-47f9-8824-882a3b22f98b",
   "metadata": {},
   "outputs": [],
   "source": [
    "n = 8"
   ]
  },
  {
   "cell_type": "code",
   "execution_count": 16,
   "id": "eeb79380-aa06-487b-b9fb-cf0bf9b44108",
   "metadata": {},
   "outputs": [],
   "source": [
    "i = 1"
   ]
  },
  {
   "cell_type": "code",
   "execution_count": 18,
   "id": "07c53b1d-61c3-45fb-9454-570e5ad65843",
   "metadata": {},
   "outputs": [
    {
     "name": "stdout",
     "output_type": "stream",
     "text": [
      "1\n",
      "2\n",
      "3\n",
      "4\n"
     ]
    }
   ],
   "source": [
    "while i < n:\n",
    "    print (i)\n",
    "    i = i +1\n",
    "    if i == 5 :\n",
    "        break\n",
    "else :\n",
    "    print (\"This will be executed when the while is run successfuly without any break\")"
   ]
  },
  {
   "cell_type": "code",
   "execution_count": 22,
   "id": "17907c7a-cd42-4f78-adcf-67c36e0dc223",
   "metadata": {},
   "outputs": [],
   "source": [
    "#continue statement in while loop  >>  skips the iteration"
   ]
  },
  {
   "cell_type": "code",
   "execution_count": 54,
   "id": "4966cf92-f35b-4d5f-9efd-c0631adb945e",
   "metadata": {},
   "outputs": [],
   "source": [
    "n = 10"
   ]
  },
  {
   "cell_type": "code",
   "execution_count": 56,
   "id": "01259ce1-4536-48f7-af8d-785711156523",
   "metadata": {},
   "outputs": [],
   "source": [
    "i = 1"
   ]
  },
  {
   "cell_type": "code",
   "execution_count": 58,
   "id": "58544d6d-f7de-438d-b5ca-0d8edcb7f04b",
   "metadata": {},
   "outputs": [
    {
     "name": "stdout",
     "output_type": "stream",
     "text": [
      "2\n",
      "4\n",
      "5\n",
      "6\n",
      "7\n",
      "8\n",
      "9\n",
      "10\n",
      "This will be executed when the while is run successfuly without any break\n"
     ]
    }
   ],
   "source": [
    "while i < n :\n",
    "    i = i + 1\n",
    "    if i == 3:\n",
    "       continue    \n",
    "    print (i)\n",
    "else :    \n",
    "   print (\"This will be executed when the while is run successfuly without any break\")"
   ]
  },
  {
   "cell_type": "code",
   "execution_count": 60,
   "id": "0324155f-0074-4634-bcf7-67aac2a8d007",
   "metadata": {},
   "outputs": [],
   "source": [
    "#FOR loop >> iterate over a sequance of element >> strings, List"
   ]
  },
  {
   "cell_type": "code",
   "execution_count": 66,
   "id": "e65c18b6-ed2d-42e4-9337-b9feaf6cc2dc",
   "metadata": {},
   "outputs": [
    {
     "name": "stdout",
     "output_type": "stream",
     "text": [
      "p\n",
      "r\n",
      "o\n",
      "g\n",
      "r\n",
      "a\n",
      "m\n",
      "m\n",
      "i\n",
      "n\n",
      "g\n"
     ]
    }
   ],
   "source": [
    "for p in \"programming\":\n",
    "    print (p)"
   ]
  },
  {
   "cell_type": "code",
   "execution_count": 72,
   "id": "a8deb395-64df-45a3-ae9d-d3348371ef21",
   "metadata": {},
   "outputs": [],
   "source": [
    "#break statement in for loop"
   ]
  },
  {
   "cell_type": "code",
   "execution_count": 77,
   "id": "e6b26c4b-3668-4b2c-b32d-2a0745a3b7a6",
   "metadata": {},
   "outputs": [],
   "source": [
    "L = [1,2,3+4j,\"India\",\"Manisha\"]"
   ]
  },
  {
   "cell_type": "code",
   "execution_count": 79,
   "id": "1937216d-3175-4d1f-a620-cd459b37ffcf",
   "metadata": {},
   "outputs": [
    {
     "name": "stdout",
     "output_type": "stream",
     "text": [
      "1\n",
      "2\n",
      "(3+4j)\n"
     ]
    }
   ],
   "source": [
    "for i in L:\n",
    "    if i == \"India\":\n",
    "        break\n",
    "    print (i)\n",
    "else :\n",
    "    print (\"This will be executed when For loop ends without a break statement\")"
   ]
  },
  {
   "cell_type": "code",
   "execution_count": 83,
   "id": "889ee72d-8321-4648-ae3e-fb64548d54dd",
   "metadata": {},
   "outputs": [],
   "source": [
    "#continue statement in for loop"
   ]
  },
  {
   "cell_type": "code",
   "execution_count": 81,
   "id": "dc2c972f-2d97-483f-8846-c02bc4e4b152",
   "metadata": {},
   "outputs": [
    {
     "name": "stdout",
     "output_type": "stream",
     "text": [
      "1\n",
      "2\n",
      "(3+4j)\n",
      "Manisha\n",
      "This will be executed when For loop ends without a break statement\n"
     ]
    }
   ],
   "source": [
    "for i in L:\n",
    "    if i == \"India\":\n",
    "        continue\n",
    "    print (i)\n",
    "else :\n",
    "    print (\"This will be executed when For loop ends without a break statement\")"
   ]
  },
  {
   "cell_type": "code",
   "execution_count": 85,
   "id": "9ec3af5d-27e8-4b87-b866-73c6c808f547",
   "metadata": {},
   "outputs": [],
   "source": [
    "# Print a right triangle with using while loop"
   ]
  },
  {
   "cell_type": "code",
   "execution_count": 103,
   "id": "fd300a42-72e7-49a2-8f8d-09dab4627585",
   "metadata": {},
   "outputs": [],
   "source": [
    "row = 1"
   ]
  },
  {
   "cell_type": "code",
   "execution_count": 105,
   "id": "2113f5c1-426e-4f5a-a476-38c885235b4b",
   "metadata": {},
   "outputs": [
    {
     "name": "stdout",
     "output_type": "stream",
     "text": [
      "* \n",
      "* * \n",
      "* * * \n",
      "* * * * \n"
     ]
    }
   ],
   "source": [
    "while row <= 4 :\n",
    "    column = 1\n",
    "    while column <= row:\n",
    "        print (\"*\",end =\" \")\n",
    "        column = column + 1\n",
    "    print ( )\n",
    "    row = row + 1"
   ]
  },
  {
   "cell_type": "code",
   "execution_count": 107,
   "id": "4b9323da-255d-43c8-a5e7-bd5d3b0154c9",
   "metadata": {},
   "outputs": [],
   "source": [
    "# Print a right triangle with using for loop"
   ]
  },
  {
   "cell_type": "code",
   "execution_count": 113,
   "id": "1a700df6-201e-4c1c-b244-cfe92c832b26",
   "metadata": {},
   "outputs": [
    {
     "name": "stdout",
     "output_type": "stream",
     "text": [
      "* \n",
      "* * \n",
      "* * * \n",
      "* * * * \n"
     ]
    }
   ],
   "source": [
    "for i in range ( 4 ) :\n",
    "    for j in range (i + 1):\n",
    "        print (\"*\",end =\" \")\n",
    "    print ( )    "
   ]
  }
 ],
 "metadata": {
  "kernelspec": {
   "display_name": "Python 3 (ipykernel)",
   "language": "python",
   "name": "python3"
  },
  "language_info": {
   "codemirror_mode": {
    "name": "ipython",
    "version": 3
   },
   "file_extension": ".py",
   "mimetype": "text/x-python",
   "name": "python",
   "nbconvert_exporter": "python",
   "pygments_lexer": "ipython3",
   "version": "3.12.4"
  }
 },
 "nbformat": 4,
 "nbformat_minor": 5
}
